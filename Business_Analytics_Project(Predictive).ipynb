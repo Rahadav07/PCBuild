{
  "cells": [
    {
      "cell_type": "markdown",
      "metadata": {
        "id": "rRmzZxdBwSuX"
      },
      "source": [
        "# **Business Analytics (MGT3614)**\n",
        "\n",
        "---\n",
        "\n"
      ]
    },
    {
      "cell_type": "markdown",
      "metadata": {
        "id": "BfYjV4v-wrkf"
      },
      "source": [
        " By -\n",
        "1.   Swaraj Sarkar (20BME7009)\n",
        "2.   Rahul Yadav (20BCD7127)"
      ]
    },
    {
      "cell_type": "markdown",
      "metadata": {
        "id": "69NUirIaagVf"
      },
      "source": [
        "Add Dataset from \n",
        "https://www.kaggle.com/datasets/thedevastator/global-video-game-sales-ratings?select=Tagged-Data-Final.csv"
      ]
    },
    {
      "cell_type": "markdown",
      "metadata": {
        "id": "KTm10zat254k"
      },
      "source": [
        "Predictive Analysis using Linear Regression"
      ]
    },
    {
      "cell_type": "code",
      "execution_count": 2,
      "metadata": {
        "colab": {
          "base_uri": "https://localhost:8080/"
        },
        "id": "o3q-XFB3SotS",
        "outputId": "07855af3-9ef3-4736-cf07-a67d7b5697a7"
      },
      "outputs": [
        {
          "ename": "ModuleNotFoundError",
          "evalue": "No module named 'pandas'",
          "output_type": "error",
          "traceback": [
            "\u001b[1;31m---------------------------------------------------------------------------\u001b[0m",
            "\u001b[1;31mModuleNotFoundError\u001b[0m                       Traceback (most recent call last)",
            "Cell \u001b[1;32mIn[2], line 2\u001b[0m\n\u001b[0;32m      1\u001b[0m \u001b[38;5;66;03m# Import necessary libraries\u001b[39;00m\n\u001b[1;32m----> 2\u001b[0m \u001b[38;5;28;01mimport\u001b[39;00m \u001b[38;5;21;01mpandas\u001b[39;00m \u001b[38;5;28;01mas\u001b[39;00m \u001b[38;5;21;01mpd\u001b[39;00m\n\u001b[0;32m      3\u001b[0m \u001b[38;5;28;01mfrom\u001b[39;00m \u001b[38;5;21;01msklearn\u001b[39;00m\u001b[38;5;21;01m.\u001b[39;00m\u001b[38;5;21;01mmodel_selection\u001b[39;00m \u001b[38;5;28;01mimport\u001b[39;00m train_test_split\n\u001b[0;32m      4\u001b[0m \u001b[38;5;28;01mfrom\u001b[39;00m \u001b[38;5;21;01msklearn\u001b[39;00m\u001b[38;5;21;01m.\u001b[39;00m\u001b[38;5;21;01mlinear_model\u001b[39;00m \u001b[38;5;28;01mimport\u001b[39;00m LinearRegression\n",
            "\u001b[1;31mModuleNotFoundError\u001b[0m: No module named 'pandas'"
          ]
        }
      ],
      "source": [
        "# Import necessary libraries\n",
        "import pandas as pd\n",
        "from sklearn.model_selection import train_test_split\n",
        "from sklearn.linear_model import LinearRegression\n",
        "from sklearn.metrics import r2_score\n",
        "from sklearn.preprocessing import LabelEncoder, OneHotEncoder\n",
        "from sklearn.compose import ColumnTransformer\n",
        "\n",
        "# Load the dataset\n",
        "data = pd.read_csv(\"Tagged-Data-Final.csv\")\n",
        "\n",
        "# Split the dataset into train and test sets\n",
        "train, test = train_test_split(data, test_size=0.2, random_state=42)\n",
        "\n",
        "# Define the features and target variable\n",
        "numeric_features = ['Year_of_Release', 'Critic_Score', 'Critic_Count', 'User_Score', 'User_Count']\n",
        "categorical_features = ['Genre', 'Publisher', 'Developer', 'Rating']\n",
        "region_targets = ['NA_Sales', 'EU_Sales', 'JP_Sales', 'Other_Sales']\n",
        "\n",
        "# Encode categorical features using one-hot encoding\n",
        "preprocessor = ColumnTransformer(\n",
        "    transformers=[\n",
        "        ('cat', OneHotEncoder(handle_unknown='ignore'), categorical_features)],\n",
        "    remainder='passthrough')\n",
        "\n",
        "train_X = preprocessor.fit_transform(train[numeric_features + categorical_features])\n",
        "test_X = preprocessor.transform(test[numeric_features + categorical_features])\n",
        "\n",
        "# Fit a linear regression model for each region target\n",
        "lr = {}\n",
        "for target in region_targets:\n",
        "    lr[target] = LinearRegression()\n",
        "    lr[target].fit(train_X, train[target])\n",
        "    preds = lr[target].predict(test_X)\n",
        "\n",
        "    # Identify \"Good Investments\" by Developer, Genre, Rating, and Publisher\n",
        "    top_categories = test[categorical_features + [target]].copy()\n",
        "    top_categories['Predicted Sales'] = preds\n",
        "    top_categories = top_categories.groupby(categorical_features).sum().sort_values(by='Predicted Sales', ascending=False)\n",
        "    good_investments = top_categories.head(10)\n",
        "\n",
        "    # Print the top 10 \"Good Investments\" by Developer, Genre, Rating, and Publisher\n",
        "    print(\"Good Investments by\", \", \".join(categorical_features), \"in\", target)\n",
        "    print(good_investments[[target, 'Predicted Sales']])\n"
      ]
    }
  ],
  "metadata": {
    "colab": {
      "provenance": []
    },
    "kernelspec": {
      "display_name": "Python 3",
      "name": "python3"
    },
    "language_info": {
      "codemirror_mode": {
        "name": "ipython",
        "version": 3
      },
      "file_extension": ".py",
      "mimetype": "text/x-python",
      "name": "python",
      "nbconvert_exporter": "python",
      "pygments_lexer": "ipython3",
      "version": "3.12.1"
    }
  },
  "nbformat": 4,
  "nbformat_minor": 0
}
